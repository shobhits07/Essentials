{
 "cells": [
  {
   "cell_type": "code",
   "execution_count": null,
   "id": "cea08370",
   "metadata": {},
   "outputs": [],
   "source": [
    "import geopandas as gpd\n",
    "\n",
    "# Define the path to the GeoJSON file\n",
    "geojson_path = r'path\\fileName.geojson'  # Update with your actual GeoJSON filename\n",
    "\n",
    "# Load the GeoJSON file into a GeoDataFrame\n",
    "gdf = gpd.read_file(geojson_path)\n",
    "\n",
    "# Define the path for the output Shapefile\n",
    "shapefile_path = r'path\\Nameofyourfile.shp'  # Update the name as needed\n",
    "\n",
    "# Save the GeoDataFrame as a Shapefile\n",
    "gdf.to_file(shapefile_path, driver='ESRI Shapefile')\n",
    "\n",
    "print(f\"Shapefile has been created at: {shapefile_path}\")\n"
   ]
  }
 ],
 "metadata": {
  "kernelspec": {
   "display_name": "Python 3 (ipykernel)",
   "language": "python",
   "name": "python3"
  },
  "language_info": {
   "codemirror_mode": {
    "name": "ipython",
    "version": 3
   },
   "file_extension": ".py",
   "mimetype": "text/x-python",
   "name": "python",
   "nbconvert_exporter": "python",
   "pygments_lexer": "ipython3",
   "version": "3.10.9"
  }
 },
 "nbformat": 4,
 "nbformat_minor": 5
}
